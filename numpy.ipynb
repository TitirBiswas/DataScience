{
 "cells": [
  {
   "cell_type": "code",
   "execution_count": 1,
   "id": "b4c2cccb",
   "metadata": {},
   "outputs": [],
   "source": [
    "import numpy as np"
   ]
  },
  {
   "cell_type": "code",
   "execution_count": 3,
   "id": "9f55a379",
   "metadata": {
    "scrolled": true
   },
   "outputs": [
    {
     "data": {
      "text/plain": [
       "array([[0., 0., 0., 0., 0.],\n",
       "       [0., 0., 0., 0., 0.],\n",
       "       [0., 0., 0., 0., 0.]])"
      ]
     },
     "execution_count": 3,
     "metadata": {},
     "output_type": "execute_result"
    }
   ],
   "source": [
    "n1=np.zeros((3,5))\n",
    "n1"
   ]
  },
  {
   "cell_type": "code",
   "execution_count": 5,
   "id": "5dde4802",
   "metadata": {},
   "outputs": [
    {
     "data": {
      "text/plain": [
       "array([[1, 2, 3],\n",
       "       [5, 6, 7]])"
      ]
     },
     "execution_count": 5,
     "metadata": {},
     "output_type": "execute_result"
    }
   ],
   "source": [
    "n2=np.array([[1,2,3],[5,6,7]])\n",
    "n2"
   ]
  },
  {
   "cell_type": "code",
   "execution_count": 6,
   "id": "8cfd0380",
   "metadata": {},
   "outputs": [
    {
     "data": {
      "text/plain": [
       "array([[69, 69, 69, 69, 69],\n",
       "       [69, 69, 69, 69, 69],\n",
       "       [69, 69, 69, 69, 69]])"
      ]
     },
     "execution_count": 6,
     "metadata": {},
     "output_type": "execute_result"
    }
   ],
   "source": [
    "n1_1=np.full((3,5),69)\n",
    "n1_1\n"
   ]
  },
  {
   "cell_type": "code",
   "execution_count": 7,
   "id": "3d153a4a",
   "metadata": {},
   "outputs": [
    {
     "data": {
      "text/plain": [
       "array([ 1,  5,  9, 13, 17])"
      ]
     },
     "execution_count": 7,
     "metadata": {},
     "output_type": "execute_result"
    }
   ],
   "source": [
    "n_range=np.arange(1,20,4)\n",
    "n_range"
   ]
  },
  {
   "cell_type": "code",
   "execution_count": 13,
   "id": "72e73dcc",
   "metadata": {},
   "outputs": [
    {
     "data": {
      "text/plain": [
       "(array([0.73726878, 0.19082234, 0.83949832]), array([21, 46, 24, 17, 18]))"
      ]
     },
     "execution_count": 13,
     "metadata": {},
     "output_type": "execute_result"
    }
   ],
   "source": [
    "n_random=np.random.rand(3)\n",
    "n_randomint=np.random.randint(1,50,5)\n",
    "n_random, n_randomint"
   ]
  },
  {
   "cell_type": "code",
   "execution_count": 21,
   "id": "2253804f",
   "metadata": {},
   "outputs": [
    {
     "data": {
      "text/plain": [
       "(2, 3)"
      ]
     },
     "execution_count": 21,
     "metadata": {},
     "output_type": "execute_result"
    }
   ],
   "source": [
    "n2.shape\n",
    "\n"
   ]
  },
  {
   "cell_type": "code",
   "execution_count": 22,
   "id": "90a9b546",
   "metadata": {},
   "outputs": [],
   "source": [
    "n2.shape=(3,2)"
   ]
  },
  {
   "cell_type": "code",
   "execution_count": 23,
   "id": "4d47eb0c",
   "metadata": {},
   "outputs": [
    {
     "data": {
      "text/plain": [
       "array([[1, 2],\n",
       "       [3, 5],\n",
       "       [6, 7]])"
      ]
     },
     "execution_count": 23,
     "metadata": {},
     "output_type": "execute_result"
    }
   ],
   "source": [
    "n2\n"
   ]
  },
  {
   "cell_type": "code",
   "execution_count": 34,
   "id": "c592902f",
   "metadata": {},
   "outputs": [
    {
     "data": {
      "text/plain": [
       "(array([[5.        , 8.        , 1.        , 8.        , 5.        ],\n",
       "        [0.03109412, 0.65371079, 0.62298515, 0.75363505, 0.28052543]]),\n",
       " array([5.        , 8.        , 1.        , 8.        , 5.        ,\n",
       "        0.03109412, 0.65371079, 0.62298515, 0.75363505, 0.28052543]),\n",
       " array([[5.        , 0.03109412],\n",
       "        [8.        , 0.65371079],\n",
       "        [1.        , 0.62298515],\n",
       "        [8.        , 0.75363505],\n",
       "        [5.        , 0.28052543]]))"
      ]
     },
     "execution_count": 34,
     "metadata": {},
     "output_type": "execute_result"
    }
   ],
   "source": [
    "nstack1=np.random.randint(1,10,5)\n",
    "nstack2=np.random.rand(5)\n",
    "np.vstack((nstack1,nstack2)) ,np.hstack((nstack1,nstack2)) , np.column_stack((nstack1,nstack2))"
   ]
  },
  {
   "cell_type": "code",
   "execution_count": 44,
   "id": "22be3bff",
   "metadata": {},
   "outputs": [
    {
     "data": {
      "text/plain": [
       "(array([1, 5]), array([10]), array([20]))"
      ]
     },
     "execution_count": 44,
     "metadata": {},
     "output_type": "execute_result"
    }
   ],
   "source": [
    "n3=np.array([1,10,5])\n",
    "n4=np.array([1,20,5])\n",
    "np.intersect1d(n3,n4),np.setdiff1d(n3,n4), np.setdiff1d(n4,n3)"
   ]
  },
  {
   "cell_type": "code",
   "execution_count": 47,
   "id": "166bb4b1",
   "metadata": {},
   "outputs": [
    {
     "data": {
      "text/plain": [
       "(42, array([ 2, 30, 10]), array([16, 26]))"
      ]
     },
     "execution_count": 47,
     "metadata": {},
     "output_type": "execute_result"
    }
   ],
   "source": [
    "np.sum([n3,n4]), np.sum([n3,n4], axis=0) ,np.sum([n3,n4], axis=1)"
   ]
  },
  {
   "cell_type": "code",
   "execution_count": 49,
   "id": "ddc74531",
   "metadata": {},
   "outputs": [
    {
     "data": {
      "text/plain": [
       "(array([ 0.5, 10. ,  2.5]), array([0, 9, 4]))"
      ]
     },
     "execution_count": 49,
     "metadata": {},
     "output_type": "execute_result"
    }
   ],
   "source": [
    "n4/2, n3-1"
   ]
  },
  {
   "cell_type": "code",
   "execution_count": 53,
   "id": "b23225f8",
   "metadata": {},
   "outputs": [
    {
     "data": {
      "text/plain": [
       "(8.178562764256865, 5.0, 8.666666666666666)"
      ]
     },
     "execution_count": 53,
     "metadata": {},
     "output_type": "execute_result"
    }
   ],
   "source": [
    "np.std(n4), np.median(n3) , np.mean(n4)"
   ]
  },
  {
   "cell_type": "code",
   "execution_count": 52,
   "id": "28068f65",
   "metadata": {},
   "outputs": [
    {
     "data": {
      "text/plain": [
       "(5.0, 8.666666666666666)"
      ]
     },
     "execution_count": 52,
     "metadata": {},
     "output_type": "execute_result"
    }
   ],
   "source": []
  },
  {
   "cell_type": "code",
   "execution_count": null,
   "id": "5a16fa54",
   "metadata": {},
   "outputs": [],
   "source": []
  }
 ],
 "metadata": {
  "kernelspec": {
   "display_name": "Python 3 (ipykernel)",
   "language": "python",
   "name": "python3"
  },
  "language_info": {
   "codemirror_mode": {
    "name": "ipython",
    "version": 3
   },
   "file_extension": ".py",
   "mimetype": "text/x-python",
   "name": "python",
   "nbconvert_exporter": "python",
   "pygments_lexer": "ipython3",
   "version": "3.11.5"
  }
 },
 "nbformat": 4,
 "nbformat_minor": 5
}
